{
 "cells": [
  {
   "cell_type": "markdown",
   "metadata": {},
   "source": [
    "# 1. Setup"
   ]
  },
  {
   "cell_type": "code",
   "execution_count": null,
   "metadata": {
    "_cell_guid": "b1076dfc-b9ad-4769-8c92-a6c4dae69d19",
    "_uuid": "8f2839f25d086af736a60e9eeb907d3b93b6e0e5",
    "trusted": true
   },
   "outputs": [],
   "source": [
    "import pandas as pd\n",
    "import numpy as np\n",
    "import matplotlib.pyplot as plt\n",
    "import seaborn as sns\n",
    "from tqdm import tqdm\n",
    "\n",
    "# from sklearn.metrics import f1_score\n",
    "# from sklearn.preprocessing import StandardScaler\n",
    "from sklearn.experimental import enable_iterative_imputer\n",
    "from sklearn.impute import IterativeImputer\n",
    "from sklearn.linear_model import LassoCV\n",
    "\n",
    "import warnings\n",
    "warnings.filterwarnings('ignore')\n",
    "\n",
    "%matplotlib inline\n",
    "sns.set(style=\"whitegrid\")"
   ]
  },
  {
   "cell_type": "markdown",
   "metadata": {},
   "source": [
    "# 2. Data Preprocessing"
   ]
  },
  {
   "cell_type": "code",
   "execution_count": null,
   "metadata": {
    "trusted": true
   },
   "outputs": [],
   "source": [
    "SEED = 42\n",
    "\n",
    "train_q = pd.read_excel(\"data/TRAIN/TRAIN_QUANTITATIVE_METADATA.xlsx\")\n",
    "train_c = pd.read_excel(\"data/TRAIN/TRAIN_CATEGORICAL_METADATA.xlsx\")\n",
    "test_q = pd.read_excel(\"data/TEST/TEST_QUANTITATIVE_METADATA.xlsx\")\n",
    "test_c = pd.read_excel(\"data/TEST/TEST_CATEGORICAL_METADATA.xlsx\")\n",
    "\n",
    "train_combined = pd.merge(train_q, train_c, on='participant_id', how='left').set_index(\"participant_id\")\n",
    "test_combined = pd.merge(test_q, test_c, on='participant_id', how='left').set_index(\"participant_id\")\n",
    "\n",
    "labels = pd.read_excel(\"data/TRAIN/TRAINING_SOLUTIONS.xlsx\").set_index(\"participant_id\")\n",
    "\n",
    "train_combined = train_combined.sort_index()\n",
    "labels = labels.sort_index()\n",
    "assert all(train_combined.index == labels.index), \"Label IDs do not match train IDs\""
   ]
  },
  {
   "cell_type": "code",
   "execution_count": null,
   "metadata": {
    "trusted": true
   },
   "outputs": [],
   "source": [
    "train_combined"
   ]
  },
  {
   "cell_type": "code",
   "execution_count": null,
   "metadata": {
    "trusted": true
   },
   "outputs": [],
   "source": [
    "train_combined.columns"
   ]
  },
  {
   "cell_type": "markdown",
   "metadata": {},
   "source": [
    "This is some explanation of feature present in the dataset\n",
    "\n",
    "## Numerical features: Total of 18 features\n",
    "+ EHQ_EHQ_Total: laterality index score (float) || -100 = 10th left, −28 ≤ LI < 48 = middle, 100 = 10th right\"\n",
    "+ ColorVision_CV_Score: color vision test score (int)\n",
    "+ MRI_Track_Age_at_Scan: Age at time of MRI scan (float)\n",
    "\n",
    "### ALABAMA PARENTING QUESTIONAIRE - PARENT REPORT (INT)\n",
    "+ APQ_P_APQ_P_CP: Reflects the frequency or severity of corporal punishment used by parents\n",
    "+ APQ_P_APQ_P_ID: Measures inconsistency in parental discipline\n",
    "+ APQ_P_APQ_P_INV: Indicates the level of parental involvement in the child’s life\n",
    "+ APQ_P_APQ_P_OPD: Other Discipline Practices Score (Not factored into total score but provides item level information)\n",
    "+ APQ_P_APQ_P_PM: Reflects how well a parent monitors and supervises their child\n",
    "+ APQ_P_APQ_P_PP: Captures the extent of positive reinforcement and supportive parenting\n",
    "\n",
    "### Strength and Difficulties Questionnaire (INT)\n",
    "+ SDQ_SDQ_Conduct_Problems: Measures behavioral issues related to rule-breaking or aggression (higher score = more prone to ADHD)\n",
    "+ SDQ_SDQ_Difficulties_Total: A composite measure summarizing overall difficulties across several behavioral domains\n",
    "+ SDQ_SDQ_Emotional_Problems: Focuses on internal emotional difficulties such as anxiety or depression (social related)\n",
    "+ SDQ_SDQ_Externalizing: Captures outward-directed behaviors such as hyperactivity, impulsivity, and conduct issues\n",
    "+ SDQ_SDQ_Generating_Impact: This might reflect the overall impact of the child’s behavioral problems on their social and academic life\n",
    "+ SDQ_SDQ_Hyperactivity: Directly measures the hyperactive and impulsive behaviors central to many ADHD diagnoses (HIGHLY CORRELATED FEATURE)\n",
    "+ SDQ_SDQ_Internalizing: Reflects inward-focused behaviors such as social withdrawal and anxiety\n",
    "+ SDQ_SDQ_Peer_Problems: Assesses difficulties in interacting with peers\n",
    "+ SDQ_SDQ_Prosocial: Evaluates positive social behaviors like empathy and cooperation\n",
    "\n",
    "## Features Informative For Predicting Sex (Based on domain knowledge only) (17 FEATURES)\n",
    "+ EHQ_EHQ_Total (VERY IMPORTANT)\n",
    "+ ColorVision_CV_Score (VERY IMPORTANT)\n",
    "\n",
    "!! (APQ_ features) Differences in discipline or supervision could interact with gender expectations and thus be indirectly predictive of sex.\n",
    "+ APQ_P_APQ_P_CP\n",
    "+ APQ_P_APQ_P_ID\n",
    "+ APQ_P_APQ_P_INV\n",
    "+ APQ_P_APQ_P_OPD\n",
    "+ APQ_P_APQ_P_PM\n",
    "+ APQ_P_APQ_P_PP\n",
    "+ SDQ_SDQ_Conduct_Problems\n",
    "+ SDQ_SDQ_Difficulties_Total\n",
    "+ SDQ_SDQ_Emotional_Problems\n",
    "+ SDQ_SDQ_Externalizing\n",
    "+ SDQ_SDQ_Generating_Impact\n",
    "+ SDQ_SDQ_Hyperactivity\n",
    "+ SDQ_SDQ_Internalizing\n",
    "+ SDQ_SDQ_Peer_Problems\n",
    "+ SDQ_SDQ_Prosocial\n",
    "\n",
    "ALL APQ_ AND SDQ_ FEATURES ARE SOMEWHAT IMPORTANT\n",
    "\n",
    "## Features Informative For Predicting ADHD (Based on domain knowledge only) (18 FEATURES)\n",
    "+ EHQ_EHQ_Total (SOMEWHAT IMPORTANT)\n",
    "+ ColorVision_CV_Score\n",
    "+ MRI_Track_Age_at_Scan (VERY IMPORTANT)\n",
    "+ APQ_P_APQ_P_CP\n",
    "+ APQ_P_APQ_P_ID (SOMEWHAT IMPORTANT)\n",
    "+ APQ_P_APQ_P_INV (VERY IMPORTANT)\n",
    "+ APQ_P_APQ_P_OPD\n",
    "+ APQ_P_APQ_P_PM (SOMEWHAT IMPORTANT)\n",
    "+ APQ_P_APQ_P_PP (VERY IMPORTANT)\n",
    "+ SDQ_SDQ_Conduct_Problems (SOMEWHAT IMPORTANT)\n",
    "+ SDQ_SDQ_Difficulties_Total (SOMEWHAT IMPORTANT)\n",
    "+ SDQ_SDQ_Emotional_Problems\n",
    "+ SDQ_SDQ_Externalizing (VERY IMPORTANT)\n",
    "+ SDQ_SDQ_Generating_Impact\n",
    "+ SDQ_SDQ_Hyperactivity (VERY IMPORTANT)\n",
    "+ SDQ_SDQ_Internalizing (VERY IMPORTANT)\n",
    "+ SDQ_SDQ_Peer_Problems\n",
    "+ SDQ_SDQ_Prosocial"
   ]
  },
  {
   "cell_type": "markdown",
   "metadata": {},
   "source": [
    "## 2.1 Numerical Features Visualization"
   ]
  },
  {
   "cell_type": "code",
   "execution_count": null,
   "metadata": {
    "trusted": true
   },
   "outputs": [],
   "source": [
    "numerical_features = [\n",
    "    'EHQ_EHQ_Total', 'ColorVision_CV_Score', 'APQ_P_APQ_P_CP',\n",
    "    'APQ_P_APQ_P_ID', 'APQ_P_APQ_P_INV', 'APQ_P_APQ_P_OPD',\n",
    "    'APQ_P_APQ_P_PM', 'APQ_P_APQ_P_PP', 'SDQ_SDQ_Conduct_Problems',\n",
    "    'SDQ_SDQ_Difficulties_Total', 'SDQ_SDQ_Emotional_Problems',\n",
    "    'SDQ_SDQ_Externalizing', 'SDQ_SDQ_Generating_Impact',\n",
    "    'SDQ_SDQ_Hyperactivity', 'SDQ_SDQ_Internalizing',\n",
    "    'SDQ_SDQ_Peer_Problems', 'SDQ_SDQ_Prosocial', 'MRI_Track_Age_at_Scan'\n",
    "]\n",
    "\n",
    "print(len(numerical_features))"
   ]
  },
  {
   "cell_type": "code",
   "execution_count": null,
   "metadata": {
    "trusted": true
   },
   "outputs": [],
   "source": [
    "for feature in numerical_features:\n",
    "    num_missing = train_combined[feature].isna().sum()\n",
    "    print(f\"{feature}: {num_missing} missing values\")"
   ]
  },
  {
   "cell_type": "markdown",
   "metadata": {},
   "source": [
    "### 2.1.1 EHQ_EHQ_Total"
   ]
  },
  {
   "cell_type": "code",
   "execution_count": null,
   "metadata": {
    "trusted": true
   },
   "outputs": [],
   "source": [
    "median_val = train_combined[\"EHQ_EHQ_Total\"].median()\n",
    "train_combined[\"EHQ_EHQ_Total\"].fillna(median_val, inplace=True)\n",
    "print(\"Missing values after fill:\", train_combined[\"EHQ_EHQ_Total\"].isna().sum())\n",
    "\n",
    "median_test_val = test_combined[\"EHQ_EHQ_Total\"].median()\n",
    "test_combined[\"EHQ_EHQ_Total\"].fillna(median_test_val, inplace=True)\n",
    "print(\"Missing values after fill:\", test_combined[\"EHQ_EHQ_Total\"].isna().sum())"
   ]
  },
  {
   "cell_type": "code",
   "execution_count": null,
   "metadata": {
    "trusted": true
   },
   "outputs": [],
   "source": [
    "# plt.figure(figsize=(10, 4))\n",
    "# sns.boxplot(data=train_combined, x='EHQ_EHQ_Total')\n",
    "# plt.title(\"Box Plot of EHQ_|EHQ_Total\")\n",
    "# plt.xlabel(\"EHQ_EHQ_Total\")\n",
    "# plt.show()"
   ]
  },
  {
   "cell_type": "code",
   "execution_count": null,
   "metadata": {
    "trusted": true
   },
   "outputs": [],
   "source": [
    "def categorize_laterality(li):\n",
    "    if -110 <= li <= -28:\n",
    "        return \"Left-Lateralized\"\n",
    "    elif -28 < li <= 47:\n",
    "        return 'Middle'\n",
    "    elif 47 < li <= 110:\n",
    "        return 'Right-Lateralized'\n",
    "\n",
    "train_combined['Laterality_Category'] = train_combined['EHQ_EHQ_Total'].apply(categorize_laterality)\n",
    "test_combined['Laterality_Category'] = test_combined['EHQ_EHQ_Total'].apply(categorize_laterality)"
   ]
  },
  {
   "cell_type": "code",
   "execution_count": null,
   "metadata": {
    "trusted": true
   },
   "outputs": [],
   "source": [
    "# plt.figure(figsize=(8, 4))\n",
    "# sns.countplot(data=train_combined, x=\"Laterality_Category\", order=[\"Left-Lateralized\", \"Middle\", \"Right-Lateralized\"])\n",
    "# plt.title(\"Distribution of Laterality Index Categories\")\n",
    "# plt.xlabel(\"Brain Laterality\")\n",
    "# plt.ylabel(\"Number of Participants\")\n",
    "# plt.tight_layout()\n",
    "# plt.show()"
   ]
  },
  {
   "cell_type": "markdown",
   "metadata": {},
   "source": [
    "### 2.1.2 ColorVision_CV_Score"
   ]
  },
  {
   "cell_type": "code",
   "execution_count": null,
   "metadata": {
    "trusted": true
   },
   "outputs": [],
   "source": [
    "train_combined['ColorVision_CV_Score'].fillna(14, inplace=True)\n",
    "print(\"Missing values after fill:\", train_combined[\"ColorVision_CV_Score\"].isna().sum())\n",
    "\n",
    "test_combined['ColorVision_CV_Score'].fillna(14, inplace=True)\n",
    "print(\"Missing values after fill:\", test_combined[\"ColorVision_CV_Score\"].isna().sum())"
   ]
  },
  {
   "cell_type": "code",
   "execution_count": null,
   "metadata": {
    "trusted": true
   },
   "outputs": [],
   "source": [
    "# plt.figure(figsize=(8, 1.5))\n",
    "# sns.boxplot(x=train_combined['ColorVision_CV_Score'], color=\"skyblue\")\n",
    "# plt.title('Boxplot: ColorVision_CV_Score')\n",
    "# plt.xlabel('ColorVision_CV_Score')\n",
    "# plt.grid(True)\n",
    "# plt.show()"
   ]
  },
  {
   "cell_type": "code",
   "execution_count": null,
   "metadata": {
    "trusted": true
   },
   "outputs": [],
   "source": [
    "train_combined['ColorVision_CV_Score'] = train_combined['ColorVision_CV_Score'].astype('category')\n",
    "test_combined['ColorVision_CV_Score'] = test_combined['ColorVision_CV_Score'].astype('category')"
   ]
  },
  {
   "cell_type": "code",
   "execution_count": null,
   "metadata": {
    "trusted": true
   },
   "outputs": [],
   "source": [
    "def categorize_vision(score):\n",
    "    if score <= 13:\n",
    "        return 'not_strong'\n",
    "    else:\n",
    "        return 'strong'\n",
    "\n",
    "train_combined['ColorVision_Level'] = train_combined['ColorVision_CV_Score'].astype(float).apply(categorize_vision)\n",
    "test_combined['ColorVision_Level'] = test_combined['ColorVision_CV_Score'].astype(float).apply(categorize_vision)"
   ]
  },
  {
   "cell_type": "code",
   "execution_count": null,
   "metadata": {
    "trusted": true
   },
   "outputs": [],
   "source": [
    "# plt.figure(figsize=(6, 4))\n",
    "# sns.countplot(data=train_combined, x='ColorVision_Level', order=['not_strong', 'strong'], palette='pastel')\n",
    "# plt.title('Distribution of ColorVision Levels')\n",
    "# plt.xlabel('Color Vision Category')\n",
    "# plt.ylabel('Count')\n",
    "# plt.grid(True)\n",
    "# plt.show()"
   ]
  },
  {
   "cell_type": "markdown",
   "metadata": {},
   "source": [
    "### 2.1.3 APQ_P_APQ_P_CP"
   ]
  },
  {
   "cell_type": "code",
   "execution_count": null,
   "metadata": {
    "trusted": true
   },
   "outputs": [],
   "source": [
    "nan_count = train_combined['APQ_P_APQ_P_CP'].isna().sum()\n",
    "print(f\"Number of NaN values in APQ_P_APQ_P_CP: {nan_count}\")\n",
    "\n",
    "median_cp = train_combined['APQ_P_APQ_P_CP'].median()\n",
    "train_combined['APQ_P_APQ_P_CP'] = train_combined['APQ_P_APQ_P_CP'].fillna(median_cp)\n",
    "print(f\"Filled NaNs with median: {median_cp}\")\n",
    "\n",
    "median_test_cp = test_combined['APQ_P_APQ_P_CP'].median()\n",
    "test_combined['APQ_P_APQ_P_CP'] = test_combined['APQ_P_APQ_P_CP'].fillna(median_test_cp)\n",
    "print(f\"Filled NaNs with median: {median_test_cp}\")"
   ]
  },
  {
   "cell_type": "code",
   "execution_count": null,
   "metadata": {
    "trusted": true
   },
   "outputs": [],
   "source": [
    "cp_scores = train_combined['APQ_P_APQ_P_CP']\n",
    "Q1 = cp_scores.quantile(0.25)\n",
    "Q3 = cp_scores.quantile(0.75)\n",
    "IQR = Q3 - Q1\n",
    "\n",
    "lower_bound = Q1 - 1.5 * IQR\n",
    "upper_bound = Q3 + 1.5 * IQR\n",
    "\n",
    "outliers = cp_scores[(cp_scores < lower_bound) | (cp_scores > upper_bound)]\n",
    "print(f\"Number of outliers in APQ_P_APQ_P_CP: {len(outliers)}\")\n",
    "print(\"Outlier values:\")\n",
    "print(outliers.values)\n",
    "\n",
    "plt.figure(figsize=(8, 4))\n",
    "sns.boxplot(x=train_combined['APQ_P_APQ_P_CP'], orient='h', color='lightgreen')\n",
    "plt.title('Boxplot of APQ_P_APQ_P_CP (After NaN Imputation)')\n",
    "plt.xlabel('Corporal Punishment Score')\n",
    "plt.tight_layout()\n",
    "plt.show()"
   ]
  },
  {
   "cell_type": "code",
   "execution_count": null,
   "metadata": {
    "trusted": true
   },
   "outputs": [],
   "source": [
    "train_combined['APQ_CP_is_high'] = (train_combined['APQ_P_APQ_P_CP'] > 5).astype(int)\n",
    "test_combined['APQ_CP_is_high'] = (test_combined['APQ_P_APQ_P_CP'] > 5).astype(int)"
   ]
  },
  {
   "cell_type": "code",
   "execution_count": null,
   "metadata": {
    "trusted": true
   },
   "outputs": [],
   "source": [
    "plt.figure(figsize=(6, 4))\n",
    "sns.countplot(x=train_combined['APQ_CP_is_high'], palette=\"Set2\")\n",
    "plt.title('Distribution of High Corporal Punishment Flag (APQ_CP_is_high)')\n",
    "plt.xlabel('Is High Corporal Punishment? (0 = No, 1 = Yes)')\n",
    "plt.ylabel('Count')\n",
    "plt.xticks([0, 1], ['0 = No', '1 = Yes'])\n",
    "plt.tight_layout()\n",
    "plt.show()"
   ]
  },
  {
   "cell_type": "markdown",
   "metadata": {},
   "source": [
    "### 2.1.4: APQ_P_APQ_P_ID"
   ]
  },
  {
   "cell_type": "code",
   "execution_count": null,
   "metadata": {
    "trusted": true
   },
   "outputs": [],
   "source": [
    "feature = 'APQ_P_APQ_P_ID'\n",
    "nan_count = train_combined[feature].isna().sum()\n",
    "print(f\"Number of NaN rows in {feature}: {nan_count}\")\n",
    "\n",
    "median_value = train_combined[feature].median()\n",
    "train_combined[feature].fillna(median_value, inplace=True)\n",
    "print(f\"Filled NaNs in {feature} with median value: {median_value}\")\n",
    "\n",
    "median_test_value = test_combined[feature].median()\n",
    "test_combined[feature].fillna(median_test_value, inplace=True)\n",
    "print(f\"Filled NaNs in {feature} with median value: {median_test_value}\")"
   ]
  },
  {
   "cell_type": "code",
   "execution_count": null,
   "metadata": {
    "trusted": true
   },
   "outputs": [],
   "source": [
    "# Q1 = train_combined[feature].quantile(0.25)\n",
    "# Q3 = train_combined[feature].quantile(0.75)\n",
    "# IQR = Q3 - Q1\n",
    "# lower_bound = Q1 - 1.5 * IQR\n",
    "# upper_bound = Q3 + 1.5 * IQR\n",
    "\n",
    "# outliers = train_combined[(train_combined[feature] < lower_bound) | (train_combined[feature] > upper_bound)]\n",
    "# print(f\"Number of outliers in {feature}: {len(outliers)}\")\n",
    "\n",
    "# plt.figure(figsize=(8, 2))\n",
    "# sns.boxplot(x=train_combined[feature], orient='h')\n",
    "# plt.title(f'Boxplot of {feature}')\n",
    "# plt.show()"
   ]
  },
  {
   "cell_type": "markdown",
   "metadata": {},
   "source": [
    "### 2.1.5: APQ_P_APQ_P_INV"
   ]
  },
  {
   "cell_type": "code",
   "execution_count": null,
   "metadata": {
    "trusted": true
   },
   "outputs": [],
   "source": [
    "feature = 'APQ_P_APQ_P_INV'\n",
    "nan_count = train_combined[feature].isna().sum()\n",
    "print(f\"Number of NaN rows in feature '{feature}': {nan_count}\")\n",
    "\n",
    "median_value = train_combined[feature].median()\n",
    "train_combined[feature] = train_combined[feature].fillna(median_value)\n",
    "print(f\"Filled NaNs in '{feature}' with median: {median_value}\")\n",
    "\n",
    "median_test_value = test_combined[feature].median()\n",
    "test_combined[feature] = test_combined[feature].fillna(median_test_value)\n",
    "print(f\"Filled NaNs in '{feature}' with median: {median_test_value}\")"
   ]
  },
  {
   "cell_type": "code",
   "execution_count": null,
   "metadata": {
    "trusted": true
   },
   "outputs": [],
   "source": [
    "# Q1 = train_combined[feature].quantile(0.25)\n",
    "# Q3 = train_combined[feature].quantile(0.75)\n",
    "# IQR = Q3 - Q1\n",
    "# lower_bound = Q1 - 1.5 * IQR\n",
    "# upper_bound = Q3 + 1.5 * IQR\n",
    "\n",
    "# outliers = train_combined[(train_combined[feature] < lower_bound) | (train_combined[feature] > upper_bound)]\n",
    "# print(f\"Number of outliers in '{feature}': {len(outliers)}\")\n",
    "# print(f\"Outlier threshold: lower < {lower_bound:.2f}, upper > {upper_bound:.2f}\")\n",
    "\n",
    "# plt.figure(figsize=(8, 1.5))\n",
    "# sns.boxplot(x=train_combined[feature], color=\"skyblue\")\n",
    "# plt.title(f'Boxplot of {feature}')\n",
    "# plt.xlabel(feature)\n",
    "# plt.tight_layout()\n",
    "# plt.show()"
   ]
  },
  {
   "cell_type": "markdown",
   "metadata": {},
   "source": [
    "### 2.1.6: APQ_P_APQ_P_OPD"
   ]
  },
  {
   "cell_type": "code",
   "execution_count": null,
   "metadata": {
    "trusted": true
   },
   "outputs": [],
   "source": [
    "feature = 'APQ_P_APQ_P_OPD'\n",
    "nan_count = train_combined[feature].isna().sum()\n",
    "print(f\"Number of NaN rows in feature '{feature}': {nan_count}\")\n",
    "\n",
    "median_value = train_combined[feature].median()\n",
    "train_combined[feature] = train_combined[feature].fillna(median_value)\n",
    "print(f\"Filled NaNs in '{feature}' with median: {median_value}\")\n",
    "\n",
    "median_test_value = test_combined[feature].median()\n",
    "test_combined[feature] = test_combined[feature].fillna(median_test_value)\n",
    "print(f\"Filled NaNs in '{feature}' with median: {median_test_value}\")"
   ]
  },
  {
   "cell_type": "code",
   "execution_count": null,
   "metadata": {
    "trusted": true
   },
   "outputs": [],
   "source": [
    "# Q1 = train_combined[feature].quantile(0.25)\n",
    "# Q3 = train_combined[feature].quantile(0.75)\n",
    "# IQR = Q3 - Q1\n",
    "# lower_bound = Q1 - 1.5 * IQR\n",
    "# upper_bound = Q3 + 1.5 * IQR\n",
    "\n",
    "# outliers = train_combined[(train_combined[feature] < lower_bound) | (train_combined[feature] > upper_bound)]\n",
    "# print(f\"Number of outliers in '{feature}': {len(outliers)}\")\n",
    "# print(f\"Outlier threshold: lower < {lower_bound:.2f}, upper > {upper_bound:.2f}\")\n",
    "\n",
    "# plt.figure(figsize=(8, 1.5))\n",
    "# sns.boxplot(x=train_combined[feature], color=\"lightgreen\")\n",
    "# plt.title(f'Boxplot of {feature}')\n",
    "# plt.xlabel(feature)\n",
    "# plt.tight_layout()\n",
    "# plt.show()"
   ]
  },
  {
   "cell_type": "markdown",
   "metadata": {},
   "source": [
    "### 2.1.7: APQ_P_APQ_P_PM"
   ]
  },
  {
   "cell_type": "code",
   "execution_count": null,
   "metadata": {
    "trusted": true
   },
   "outputs": [],
   "source": [
    "feature = 'APQ_P_APQ_P_PM'\n",
    "nan_count = train_combined[feature].isna().sum()\n",
    "print(f\"Number of NaN rows in feature '{feature}': {nan_count}\")\n",
    "\n",
    "median_value = train_combined[feature].median()\n",
    "train_combined[feature] = train_combined[feature].fillna(median_value)\n",
    "print(f\"Filled NaNs in '{feature}' with median: {median_value}\")\n",
    "\n",
    "median_test_value = test_combined[feature].median()\n",
    "test_combined[feature] = test_combined[feature].fillna(median_test_value)\n",
    "print(f\"Filled NaNs in '{feature}' with median: {median_test_value}\")"
   ]
  },
  {
   "cell_type": "code",
   "execution_count": null,
   "metadata": {
    "trusted": true
   },
   "outputs": [],
   "source": [
    "# Q1 = train_combined[feature].quantile(0.25)\n",
    "# Q3 = train_combined[feature].quantile(0.75)\n",
    "# IQR = Q3 - Q1\n",
    "# lower_bound = Q1 - 1.5 * IQR\n",
    "# upper_bound = Q3 + 1.5 * IQR\n",
    "\n",
    "# outliers = train_combined[(train_combined[feature] < lower_bound) | (train_combined[feature] > upper_bound)]\n",
    "# print(f\"Number of outliers in '{feature}': {len(outliers)}\")\n",
    "# print(f\"Outlier threshold: lower < {lower_bound:.2f}, upper > {upper_bound:.2f}\")\n",
    "\n",
    "# plt.figure(figsize=(8, 1.5))\n",
    "# sns.boxplot(x=train_combined[feature], color=\"salmon\")\n",
    "# plt.title(f'Boxplot of {feature}')\n",
    "# plt.xlabel(feature)\n",
    "# plt.tight_layout()\n",
    "# plt.show()"
   ]
  },
  {
   "cell_type": "markdown",
   "metadata": {},
   "source": [
    "### 2.1.8 APQ_P_APQ_P_PP"
   ]
  },
  {
   "cell_type": "code",
   "execution_count": null,
   "metadata": {
    "trusted": true
   },
   "outputs": [],
   "source": [
    "feature = 'APQ_P_APQ_P_PP'\n",
    "nan_count = train_combined[feature].isna().sum()\n",
    "print(f\"Number of NaN rows in feature '{feature}': {nan_count}\")\n",
    "\n",
    "median_value = train_combined[feature].median()\n",
    "train_combined[feature] = train_combined[feature].fillna(median_value)\n",
    "print(f\"Filled NaNs in '{feature}' with median: {median_value}\")\n",
    "\n",
    "median_test_value = test_combined[feature].median()\n",
    "test_combined[feature] = test_combined[feature].fillna(median_test_value)\n",
    "print(f\"Filled NaNs in '{feature}' with median: {median_test_value}\")"
   ]
  },
  {
   "cell_type": "code",
   "execution_count": null,
   "metadata": {
    "trusted": true
   },
   "outputs": [],
   "source": [
    "# Q1 = train_combined[feature].quantile(0.25)\n",
    "# Q3 = train_combined[feature].quantile(0.75)\n",
    "# IQR = Q3 - Q1\n",
    "# lower_bound = Q1 - 1.5 * IQR\n",
    "# upper_bound = Q3 + 1.5 * IQR\n",
    "\n",
    "# outliers = train_combined[(train_combined[feature] < lower_bound) | (train_combined[feature] > upper_bound)]\n",
    "# print(f\"Number of outliers in '{feature}': {len(outliers)}\")\n",
    "# print(f\"Outlier threshold: lower < {lower_bound:.2f}, upper > {upper_bound:.2f}\")\n",
    "\n",
    "# plt.figure(figsize=(8, 1.5))\n",
    "# sns.boxplot(x=train_combined[feature], color=\"plum\")\n",
    "# plt.title(f'Boxplot of {feature}')\n",
    "# plt.xlabel(feature)\n",
    "# plt.tight_layout()\n",
    "# plt.show()"
   ]
  },
  {
   "cell_type": "markdown",
   "metadata": {},
   "source": [
    "### 2.1.9 SDQ_SDQ_Conduct_Problems"
   ]
  },
  {
   "cell_type": "code",
   "execution_count": null,
   "metadata": {
    "trusted": true
   },
   "outputs": [],
   "source": [
    "feature = 'SDQ_SDQ_Conduct_Problems'\n",
    "nan_count = train_combined[feature].isna().sum()\n",
    "print(f\"Number of NaN rows in feature '{feature}': {nan_count}\")\n",
    "\n",
    "median_value = train_combined[feature].median()\n",
    "train_combined[feature] = train_combined[feature].fillna(median_value)\n",
    "print(f\"Filled NaNs in '{feature}' with median: {median_value}\")\n",
    "\n",
    "median_test_value = test_combined[feature].median()\n",
    "test_combined[feature] = test_combined[feature].fillna(median_test_value)\n",
    "print(f\"Filled NaNs in '{feature}' with median: {median_test_value}\")"
   ]
  },
  {
   "cell_type": "code",
   "execution_count": null,
   "metadata": {
    "trusted": true
   },
   "outputs": [],
   "source": [
    "# Q1 = train_combined[feature].quantile(0.25)\n",
    "# Q3 = train_combined[feature].quantile(0.75)\n",
    "# IQR = Q3 - Q1\n",
    "# lower_bound = Q1 - 1.5 * IQR\n",
    "# upper_bound = Q3 + 1.5 * IQR\n",
    "\n",
    "# outliers = train_combined[(train_combined[feature] < lower_bound) | (train_combined[feature] > upper_bound)]\n",
    "# print(f\"Number of outliers in '{feature}': {len(outliers)}\")\n",
    "# print(f\"Outlier threshold: lower < {lower_bound:.2f}, upper > {upper_bound:.2f}\")\n",
    "\n",
    "# plt.figure(figsize=(8, 1.5))\n",
    "# sns.boxplot(x=train_combined[feature], color=\"lightcoral\")\n",
    "# plt.title(f'Boxplot of {feature}')\n",
    "# plt.xlabel(feature)\n",
    "# plt.tight_layout()\n",
    "# plt.show()"
   ]
  },
  {
   "cell_type": "markdown",
   "metadata": {},
   "source": [
    "### 2.1.10 SDQ_SDQ_Difficulties_Total"
   ]
  },
  {
   "cell_type": "code",
   "execution_count": null,
   "metadata": {
    "trusted": true
   },
   "outputs": [],
   "source": [
    "feature = 'SDQ_SDQ_Difficulties_Total'\n",
    "nan_count = train_combined[feature].isna().sum()\n",
    "print(f\"Number of NaN rows in feature '{feature}': {nan_count}\")\n",
    "\n",
    "median_value = train_combined[feature].median()\n",
    "train_combined[feature] = train_combined[feature].fillna(median_value)\n",
    "print(f\"Filled NaN with median value: {median_value}\")\n",
    "\n",
    "median_test_value = test_combined[feature].median()\n",
    "test_combined[feature] = test_combined[feature].fillna(median_test_value)\n",
    "print(f\"Filled NaN with median value: {median_test_value}\")"
   ]
  },
  {
   "cell_type": "code",
   "execution_count": null,
   "metadata": {
    "trusted": true
   },
   "outputs": [],
   "source": [
    "# Q1 = train_combined[feature].quantile(0.25)\n",
    "# Q3 = train_combined[feature].quantile(0.75)\n",
    "# IQR = Q3 - Q1\n",
    "\n",
    "# lower_bound = Q1 - 1.5 * IQR\n",
    "# upper_bound = Q3 + 1.5 * IQR\n",
    "\n",
    "# outliers = train_combined[(train_combined[feature] < lower_bound) | (train_combined[feature] > upper_bound)]\n",
    "# print(f\"Number of outliers in '{feature}': {len(outliers)}\")\n",
    "\n",
    "# plt.figure(figsize=(8, 1.5))\n",
    "# sns.boxplot(x=train_combined[feature], color=\"lightcoral\")\n",
    "# plt.title(f'Boxplot of {feature}')\n",
    "# plt.xlabel(feature)\n",
    "# plt.tight_layout()\n",
    "# plt.show()"
   ]
  },
  {
   "cell_type": "markdown",
   "metadata": {},
   "source": [
    "### 2.1.11: SDQ_SDQ_Emotional_Problems"
   ]
  },
  {
   "cell_type": "code",
   "execution_count": null,
   "metadata": {
    "trusted": true
   },
   "outputs": [],
   "source": [
    "feature = 'SDQ_SDQ_Emotional_Problems'\n",
    "nan_count = train_combined[feature].isna().sum()\n",
    "print(f\"Number of NaN rows in feature '{feature}': {nan_count}\")\n",
    "\n",
    "median_value = train_combined[feature].median()\n",
    "train_combined[feature] = train_combined[feature].fillna(median_value)\n",
    "print(f\"Filled NaN with median value: {median_value}\")\n",
    "\n",
    "median_test_value = test_combined[feature].median()\n",
    "test_combined[feature] = test_combined[feature].fillna(median_test_value)\n",
    "print(f\"Filled NaN with median value: {median_test_value}\")"
   ]
  },
  {
   "cell_type": "code",
   "execution_count": null,
   "metadata": {
    "trusted": true
   },
   "outputs": [],
   "source": [
    "# Q1 = train_combined[feature].quantile(0.25)\n",
    "# Q3 = train_combined[feature].quantile(0.75)\n",
    "# IQR = Q3 - Q1\n",
    "\n",
    "# lower_bound = Q1 - 1.5 * IQR\n",
    "# upper_bound = Q3 + 1.5 * IQR\n",
    "\n",
    "# outliers = train_combined[(train_combined[feature] < lower_bound) | (train_combined[feature] > upper_bound)]\n",
    "# print(f\"Number of outliers in '{feature}': {len(outliers)}\")\n",
    "\n",
    "# plt.figure(figsize=(8, 1.5))\n",
    "# sns.boxplot(x=train_combined[feature], color=\"lightcoral\")\n",
    "# plt.title(f'Boxplot of {feature}')\n",
    "# plt.xlabel(feature)\n",
    "# plt.tight_layout()\n",
    "# plt.show()"
   ]
  },
  {
   "cell_type": "markdown",
   "metadata": {},
   "source": [
    "### 2.1.12: SDQ_SDQ_Externalizing"
   ]
  },
  {
   "cell_type": "code",
   "execution_count": null,
   "metadata": {
    "trusted": true
   },
   "outputs": [],
   "source": [
    "feature = 'SDQ_SDQ_Externalizing'\n",
    "nan_count = train_combined[feature].isna().sum()\n",
    "print(f\"Number of NaN rows in feature '{feature}': {nan_count}\")\n",
    "\n",
    "median_value = train_combined[feature].median()\n",
    "train_combined[feature] = train_combined[feature].fillna(median_value)\n",
    "print(f\"Filled NaN with median value: {median_value}\")\n",
    "\n",
    "median_test_value = test_combined[feature].median()\n",
    "test_combined[feature] = test_combined[feature].fillna(median_test_value)\n",
    "print(f\"Filled NaN with median value: {median_test_value}\")"
   ]
  },
  {
   "cell_type": "code",
   "execution_count": null,
   "metadata": {
    "trusted": true
   },
   "outputs": [],
   "source": [
    "# Q1 = train_combined[feature].quantile(0.25)\n",
    "# Q3 = train_combined[feature].quantile(0.75)\n",
    "# IQR = Q3 - Q1\n",
    "\n",
    "# lower_bound = Q1 - 1.5 * IQR\n",
    "# upper_bound = Q3 + 1.5 * IQR\n",
    "\n",
    "# outliers = train_combined[(train_combined[feature] < lower_bound) | (train_combined[feature] > upper_bound)]\n",
    "# print(f\"Number of outliers in '{feature}': {len(outliers)}\")\n",
    "\n",
    "# plt.figure(figsize=(8, 1.5))\n",
    "# sns.boxplot(x=train_combined[feature], color=\"lightcoral\")\n",
    "# plt.title(f'Boxplot of {feature}')\n",
    "# plt.xlabel(feature)\n",
    "# plt.tight_layout()\n",
    "# plt.show()"
   ]
  },
  {
   "cell_type": "markdown",
   "metadata": {},
   "source": [
    "### 2.1.13: SDQ_SDQ_Generating_Impact"
   ]
  },
  {
   "cell_type": "code",
   "execution_count": null,
   "metadata": {
    "trusted": true
   },
   "outputs": [],
   "source": [
    "feature = 'SDQ_SDQ_Generating_Impact'\n",
    "nan_count = train_combined[feature].isna().sum()\n",
    "print(f\"Number of NaN rows in feature '{feature}': {nan_count}\")\n",
    "\n",
    "median_value = train_combined[feature].median()\n",
    "train_combined[feature] = train_combined[feature].fillna(median_value)\n",
    "print(f\"Filled NaN with median value: {median_value}\")\n",
    "\n",
    "median_test_value = test_combined[feature].median()\n",
    "test_combined[feature] = test_combined[feature].fillna(median_test_value)\n",
    "print(f\"Filled NaN with median value: {median_test_value}\")"
   ]
  },
  {
   "cell_type": "code",
   "execution_count": null,
   "metadata": {
    "trusted": true
   },
   "outputs": [],
   "source": [
    "# Q1 = train_combined[feature].quantile(0.25)\n",
    "# Q3 = train_combined[feature].quantile(0.75)\n",
    "# IQR = Q3 - Q1\n",
    "\n",
    "# lower_bound = Q1 - 1.5 * IQR\n",
    "# upper_bound = Q3 + 1.5 * IQR\n",
    "\n",
    "# outliers = train_combined[(train_combined[feature] < lower_bound) | (train_combined[feature] > upper_bound)]\n",
    "# print(f\"Number of outliers in '{feature}': {len(outliers)}\")\n",
    "\n",
    "# plt.figure(figsize=(8, 1.5))\n",
    "# sns.boxplot(x=train_combined[feature], color=\"lightcoral\")\n",
    "# plt.title(f'Boxplot of {feature}')\n",
    "# plt.xlabel(feature)\n",
    "# plt.tight_layout()\n",
    "# plt.show()"
   ]
  },
  {
   "cell_type": "markdown",
   "metadata": {},
   "source": [
    "### 2.1.14: SDQ_SDQ_Hyperactivity"
   ]
  },
  {
   "cell_type": "code",
   "execution_count": null,
   "metadata": {
    "trusted": true
   },
   "outputs": [],
   "source": [
    "feature = 'SDQ_SDQ_Hyperactivity'\n",
    "nan_count = train_combined[feature].isna().sum()\n",
    "print(f\"Number of NaN rows in feature '{feature}': {nan_count}\")\n",
    "\n",
    "median_value = train_combined[feature].median()\n",
    "train_combined[feature] = train_combined[feature].fillna(median_value)\n",
    "print(f\"Filled NaN with median value: {median_value}\")\n",
    "\n",
    "median_test_value = test_combined[feature].median()\n",
    "test_combined[feature] = test_combined[feature].fillna(median_test_value)\n",
    "print(f\"Filled NaN with median value: {median_test_value}\")"
   ]
  },
  {
   "cell_type": "code",
   "execution_count": null,
   "metadata": {
    "trusted": true
   },
   "outputs": [],
   "source": [
    "# Q1 = train_combined[feature].quantile(0.25)\n",
    "# Q3 = train_combined[feature].quantile(0.75)\n",
    "# IQR = Q3 - Q1\n",
    "\n",
    "# lower_bound = Q1 - 1.5 * IQR\n",
    "# upper_bound = Q3 + 1.5 * IQR\n",
    "\n",
    "# outliers = train_combined[(train_combined[feature] < lower_bound) | (train_combined[feature] > upper_bound)]\n",
    "# print(f\"Number of outliers in '{feature}': {len(outliers)}\")\n",
    "\n",
    "# plt.figure(figsize=(8, 1.5))\n",
    "# sns.boxplot(x=train_combined[feature], color=\"lightcoral\")\n",
    "# plt.title(f'Boxplot of {feature}')\n",
    "# plt.xlabel(feature)\n",
    "# plt.tight_layout()\n",
    "# plt.show()"
   ]
  },
  {
   "cell_type": "markdown",
   "metadata": {},
   "source": [
    "### 2.1.15: SDQ_SDQ_Internalizing"
   ]
  },
  {
   "cell_type": "code",
   "execution_count": null,
   "metadata": {
    "trusted": true
   },
   "outputs": [],
   "source": [
    "feature = 'SDQ_SDQ_Internalizing'\n",
    "nan_count = train_combined[feature].isna().sum()\n",
    "print(f\"Number of NaN rows in feature '{feature}': {nan_count}\")\n",
    "\n",
    "median_value = train_combined[feature].median()\n",
    "train_combined[feature] = train_combined[feature].fillna(median_value)\n",
    "print(f\"Filled NaN with median value: {median_value}\")\n",
    "\n",
    "median_test_value = test_combined[feature].median()\n",
    "test_combined[feature] = test_combined[feature].fillna(median_test_value)\n",
    "print(f\"Filled NaN with median value: {median_test_value}\")"
   ]
  },
  {
   "cell_type": "code",
   "execution_count": null,
   "metadata": {
    "trusted": true
   },
   "outputs": [],
   "source": [
    "# Q1 = train_combined[feature].quantile(0.25)\n",
    "# Q3 = train_combined[feature].quantile(0.75)\n",
    "# IQR = Q3 - Q1\n",
    "\n",
    "# lower_bound = Q1 - 1.5 * IQR\n",
    "# upper_bound = Q3 + 1.5 * IQR\n",
    "\n",
    "# outliers = train_combined[(train_combined[feature] < lower_bound) | (train_combined[feature] > upper_bound)]\n",
    "# print(f\"Number of outliers in '{feature}': {len(outliers)}\")\n",
    "\n",
    "# plt.figure(figsize=(8, 1.5))\n",
    "# sns.boxplot(x=train_combined[feature], color=\"lightcoral\")\n",
    "# plt.title(f'Boxplot of {feature}')\n",
    "# plt.xlabel(feature)\n",
    "# plt.tight_layout()\n",
    "# plt.show()"
   ]
  },
  {
   "cell_type": "markdown",
   "metadata": {},
   "source": [
    "### 2.1.16: SDQ_SDQ_Peer_Problems"
   ]
  },
  {
   "cell_type": "code",
   "execution_count": null,
   "metadata": {
    "trusted": true
   },
   "outputs": [],
   "source": [
    "feature = 'SDQ_SDQ_Peer_Problems'\n",
    "nan_count = train_combined[feature].isna().sum()\n",
    "print(f\"Number of NaN rows in feature '{feature}': {nan_count}\")\n",
    "\n",
    "median_value = train_combined[feature].median()\n",
    "train_combined[feature] = train_combined[feature].fillna(median_value)\n",
    "print(f\"Filled NaN with median value: {median_value}\")\n",
    "\n",
    "median_test_value = test_combined[feature].median()\n",
    "test_combined[feature] = test_combined[feature].fillna(median_test_value)\n",
    "print(f\"Filled NaN with median value: {median_test_value}\")"
   ]
  },
  {
   "cell_type": "code",
   "execution_count": null,
   "metadata": {
    "trusted": true
   },
   "outputs": [],
   "source": [
    "# Q1 = train_combined[feature].quantile(0.25)\n",
    "# Q3 = train_combined[feature].quantile(0.75)\n",
    "# IQR = Q3 - Q1\n",
    "\n",
    "# lower_bound = Q1 - 1.5 * IQR\n",
    "# upper_bound = Q3 + 1.5 * IQR\n",
    "\n",
    "# outliers = train_combined[(train_combined[feature] < lower_bound) | (train_combined[feature] > upper_bound)]\n",
    "# print(f\"Number of outliers in '{feature}': {len(outliers)}\")\n",
    "\n",
    "# plt.figure(figsize=(8, 1.5))\n",
    "# sns.boxplot(x=train_combined[feature], color=\"lightcoral\")\n",
    "# plt.title(f'Boxplot of {feature}')\n",
    "# plt.xlabel(feature)\n",
    "# plt.tight_layout()\n",
    "# plt.show()"
   ]
  },
  {
   "cell_type": "markdown",
   "metadata": {},
   "source": [
    "### 2.1.17: SDQ_SDQ_Prosocial"
   ]
  },
  {
   "cell_type": "code",
   "execution_count": null,
   "metadata": {
    "trusted": true
   },
   "outputs": [],
   "source": [
    "feature = 'SDQ_SDQ_Prosocial'\n",
    "nan_count = train_combined[feature].isna().sum()\n",
    "print(f\"Number of NaN rows in feature '{feature}': {nan_count}\")\n",
    "\n",
    "median_value = train_combined[feature].median()\n",
    "train_combined[feature] = train_combined[feature].fillna(median_value)\n",
    "print(f\"Filled NaN with median value: {median_value}\")\n",
    "\n",
    "median_test_value = test_combined[feature].median()\n",
    "test_combined[feature] = test_combined[feature].fillna(median_test_value)\n",
    "print(f\"Filled NaN with median value: {median_test_value}\")"
   ]
  },
  {
   "cell_type": "code",
   "execution_count": null,
   "metadata": {
    "trusted": true
   },
   "outputs": [],
   "source": [
    "# Q1 = train_combined[feature].quantile(0.25)\n",
    "# Q3 = train_combined[feature].quantile(0.75)\n",
    "# IQR = Q3 - Q1\n",
    "\n",
    "# lower_bound = Q1 - 1.5 * IQR\n",
    "# upper_bound = Q3 + 1.5 * IQR\n",
    "\n",
    "# outliers = train_combined[(train_combined[feature] < lower_bound) | (train_combined[feature] > upper_bound)]\n",
    "# print(f\"Number of outliers in '{feature}': {len(outliers)}\")\n",
    "\n",
    "# plt.figure(figsize=(8, 1.5))\n",
    "# sns.boxplot(x=train_combined[feature], color=\"lightcoral\")\n",
    "# plt.title(f'Boxplot of {feature}')\n",
    "# plt.xlabel(feature)\n",
    "# plt.tight_layout()\n",
    "# plt.show()"
   ]
  },
  {
   "cell_type": "markdown",
   "metadata": {},
   "source": [
    "### 2.1.18: MRI_Track_Age_at_Scan"
   ]
  },
  {
   "cell_type": "code",
   "execution_count": null,
   "metadata": {
    "trusted": true
   },
   "outputs": [],
   "source": [
    "feature = 'MRI_Track_Age_at_Scan'\n",
    "nan_count = train_combined[feature].isna().sum()\n",
    "print(f\"Number of NaN rows in feature '{feature}': {nan_count}\")"
   ]
  },
  {
   "cell_type": "code",
   "execution_count": null,
   "metadata": {
    "trusted": true
   },
   "outputs": [],
   "source": [
    "numeric_data = train_combined[numerical_features].copy()\n",
    "imputer = IterativeImputer(estimator=LassoCV(random_state=SEED), max_iter=100, random_state=SEED)\n",
    "\n",
    "numeric_data_imputed = pd.DataFrame(\n",
    "    imputer.fit_transform(numeric_data), \n",
    "    columns=numerical_features, \n",
    "    index=numeric_data.index\n",
    ")\n",
    "\n",
    "# Update MRI_Track_Age_at_Scan in train\n",
    "train_combined['MRI_Track_Age_at_Scan'] = numeric_data_imputed['MRI_Track_Age_at_Scan']"
   ]
  },
  {
   "cell_type": "code",
   "execution_count": null,
   "metadata": {},
   "outputs": [],
   "source": [
    "# Prepare test numeric data with same columns\n",
    "test_numeric_data = test_combined[numerical_features].copy()\n",
    "\n",
    "# Transform only MRI_Track_Age_at_Scan using imputer from train\n",
    "test_numeric_data_imputed = pd.DataFrame(\n",
    "    imputer.transform(test_numeric_data),\n",
    "    columns=numerical_features,\n",
    "    index=test_numeric_data.index\n",
    ")\n",
    "\n",
    "# Update only this feature\n",
    "test_combined['MRI_Track_Age_at_Scan'] = test_numeric_data_imputed['MRI_Track_Age_at_Scan']"
   ]
  },
  {
   "cell_type": "code",
   "execution_count": null,
   "metadata": {
    "trusted": true
   },
   "outputs": [],
   "source": [
    "Q1 = train_combined[feature].quantile(0.25)\n",
    "Q3 = train_combined[feature].quantile(0.75)\n",
    "IQR = Q3 - Q1\n",
    "\n",
    "lower_bound = Q1 - 1.5 * IQR\n",
    "upper_bound = Q3 + 1.5 * IQR\n",
    "\n",
    "outliers = train_combined[(train_combined[feature] < lower_bound) | (train_combined[feature] > upper_bound)]\n",
    "print(f\"Number of outliers in '{feature}': {len(outliers)}\")\n",
    "\n",
    "plt.figure(figsize=(8, 1.5))\n",
    "sns.boxplot(x=train_combined[feature], color=\"lightcoral\")\n",
    "plt.title(f'Boxplot of {feature}')\n",
    "plt.xlabel(feature)\n",
    "plt.tight_layout()\n",
    "plt.show()"
   ]
  },
  {
   "cell_type": "code",
   "execution_count": null,
   "metadata": {},
   "outputs": [],
   "source": [
    "train_combined.drop(columns=['EHQ_EHQ_Total', 'ColorVision_CV_Score'], inplace=True)\n",
    "test_combined.drop(columns=['EHQ_EHQ_Total', 'ColorVision_CV_Score'], inplace=True)"
   ]
  },
  {
   "cell_type": "markdown",
   "metadata": {},
   "source": [
    "## 2.2 Categorical Features Visualization\n",
    "\n",
    "TOTAL OF 12 FEATURE\n",
    "\n",
    "### Explanations based on domain knowledge\n",
    "+ Basic_Demos_Enroll_Year: the year when the participant enrolled in the study (int) (NOT VERY IMPORTANT)\n",
    "+ Basic_Demos_Study_Site: Location/site where the subject was assessed (NOT VERY IMPORTANT)\n",
    "+ PreInt_Demos_Fam_Child_Ethnicity: Ethnic background of the child\n",
    "+ PreInt_Demos_Fam_Child_Race: Race of the child\n",
    "+ MRI_Track_Scan_Location: Where the MRI was performed\n",
    "+ Barratt_Barratt_P1_Edu: education of the parent 1 (ORDINAL)\n",
    "+ Barratt_Barratt_P1_Occ: occupation of parent 1 (ORDINAL)\n",
    "+ Barratt_Barratt_P2_Edu: education of the parent 2 (ORDINAL)\n",
    "+ Barratt_Barratt_P2_Occ: occupation of parent 2 (ORDINAL)\n",
    "+ Laterality_Category: Categorical brain lateralization: left, middle, or right\n",
    "+ ColorVision_Level: Categorical encoding of color vision test (BINARY)\n",
    "+ APQ_CP_is_high: Is Corporal Punishment score high (>6) (BINARY)\n",
    "\n",
    "### Features Important in Predicting Sex \n",
    "+ PreInt_Demos_Fam_Child_Ethnicity (SOMEWHAT IMPORTANT)\n",
    "+ PreInt_Demos_Fam_Child_Race (SOMEWHAT IMPORTANT)\n",
    "+ Barratt_Barratt_P1_Edu (SOMEWHAT IMPORTANT)\n",
    "+ Barratt_Barratt_P1_Occ (SOMEWHAT IMPORTANT)\n",
    "+ Barratt_Barratt_P2_Edu (SOMEWHAT IMPORTANT)\n",
    "+ Barratt_Barratt_P2_Occ (SOMEWHAT IMPORTANT)\n",
    "+ Laterality_Category (SUPER IMPORTANT)\n",
    "+ ColorVision_Level (SUPER IMPORTANT)\n",
    "+ APQ_CP_is_high (SOMEWHAT IMPORTANT)\n",
    "\n",
    "### Features Important in Predicting ADHD\n",
    "+ PreInt_Demos_Fam_Child_Ethnicity (SUPER IMPORTANT)\n",
    "+ PreInt_Demos_Fam_Child_Race (SUPER IMPORTANT)\n",
    "+ Barratt_Barratt_P1_Edu (SUPER IMPORTANT)\n",
    "+ Barratt_Barratt_P1_Occ (SUPER IMPORTANT)\n",
    "+ Barratt_Barratt_P2_Edu (SOMEWHAT IMPORTANT)\n",
    "+ Barratt_Barratt_P2_Occ (SOMEWHAT IMPORTANT)\n",
    "+ Laterality_Category (SUPER IMPORTANT)\n",
    "+ ColorVision_Level (SOMEWHAT IMPORTANT)\n",
    "+ APQ_CP_is_high (SUPER IMPORTANT)"
   ]
  },
  {
   "cell_type": "code",
   "execution_count": null,
   "metadata": {
    "trusted": true
   },
   "outputs": [],
   "source": [
    "categorical_features = [\n",
    "    'Basic_Demos_Enroll_Year', 'Basic_Demos_Study_Site',\n",
    "    'PreInt_Demos_Fam_Child_Ethnicity', 'PreInt_Demos_Fam_Child_Race',\n",
    "    'MRI_Track_Scan_Location', 'Barratt_Barratt_P1_Edu',\n",
    "    'Barratt_Barratt_P1_Occ', 'Barratt_Barratt_P2_Edu',\n",
    "    'Barratt_Barratt_P2_Occ', 'Laterality_Category', 'ColorVision_Level',\n",
    "    'APQ_CP_is_high'\n",
    "]\n",
    "\n",
    "print(len(categorical_features))   "
   ]
  },
  {
   "cell_type": "markdown",
   "metadata": {},
   "source": [
    "### 2.2.1 Basic_Demos_Enroll_Year"
   ]
  },
  {
   "cell_type": "code",
   "execution_count": null,
   "metadata": {
    "trusted": true
   },
   "outputs": [],
   "source": [
    "feature = 'Basic_Demos_Enroll_Year'\n",
    "nan_count_train = train_combined[feature].isna().sum()\n",
    "print(f\"Number of NaN rows in feature '{feature}': {nan_count_train}\")\n",
    "nan_count_test = test_combined[feature].isna().sum()\n",
    "print(f\"Number of NaN rows in test feature '{feature}': {nan_count_test}\")"
   ]
  },
  {
   "cell_type": "code",
   "execution_count": null,
   "metadata": {
    "trusted": true
   },
   "outputs": [],
   "source": [
    "plt.figure(figsize=(8, 4))\n",
    "sns.countplot(x=train_combined[feature], palette=\"Set2\")\n",
    "plt.title(f\"Distribution of {feature}\")\n",
    "plt.xticks(rotation=45)\n",
    "plt.tight_layout()\n",
    "plt.show()"
   ]
  },
  {
   "cell_type": "code",
   "execution_count": null,
   "metadata": {},
   "outputs": [],
   "source": [
    "category_counts = train_combined[feature].value_counts()\n",
    "rare_categories = category_counts[category_counts < 10]\n",
    "\n",
    "print(f\"Rare categories in '{feature}' (fewer than 10 instances):\")\n",
    "print(rare_categories)"
   ]
  },
  {
   "cell_type": "markdown",
   "metadata": {},
   "source": [
    "### 2.2.2: Basic_Demos_Study_Site"
   ]
  },
  {
   "cell_type": "code",
   "execution_count": null,
   "metadata": {},
   "outputs": [],
   "source": [
    "feature = 'Basic_Demos_Study_Site'\n",
    "nan_count = train_combined[feature].isna().sum()\n",
    "print(f\"Number of NaN rows in feature '{feature}': {nan_count}\")\n",
    "\n",
    "nan_count_test = test_combined[feature].isna().sum()\n",
    "print(f\"Number of NaN rows in test feature '{feature}': {nan_count_test}\")"
   ]
  },
  {
   "cell_type": "code",
   "execution_count": null,
   "metadata": {},
   "outputs": [],
   "source": [
    "# plt.figure(figsize=(8, 4))\n",
    "# sns.countplot(x=train_combined[feature], palette='pastel', order=train_combined[feature].value_counts().index)\n",
    "# plt.title(f\"Distribution of {feature}\")\n",
    "# plt.xticks(rotation=45)\n",
    "# plt.tight_layout()\n",
    "# plt.show()"
   ]
  },
  {
   "cell_type": "code",
   "execution_count": null,
   "metadata": {},
   "outputs": [],
   "source": [
    "# category_counts = train_combined[feature].value_counts()\n",
    "# rare_categories = category_counts[category_counts < 25] # 50\n",
    "\n",
    "# print(f\"Rare categories in '{feature}' (fewer than 10 instances):\")\n",
    "# print(rare_categories)"
   ]
  },
  {
   "cell_type": "markdown",
   "metadata": {},
   "source": [
    "### 2.2.3: PreInt_Demos_Fam_Child_Ethnicity"
   ]
  },
  {
   "cell_type": "code",
   "execution_count": null,
   "metadata": {},
   "outputs": [],
   "source": [
    "feature = 'PreInt_Demos_Fam_Child_Ethnicity'\n",
    "nan_count = train_combined[feature].isna().sum()\n",
    "print(f\"Number of NaN rows in feature '{feature}': {nan_count}\")\n",
    "\n",
    "nan_count_test = test_combined[feature].isna().sum()\n",
    "print(f\"Number of NaN rows in test feature '{feature}': {nan_count_test}\")"
   ]
  },
  {
   "cell_type": "code",
   "execution_count": null,
   "metadata": {},
   "outputs": [],
   "source": [
    "train_combined[feature] = train_combined[feature].fillna(3.0)\n",
    "test_combined[feature] = test_combined[feature].fillna(3.0)"
   ]
  },
  {
   "cell_type": "code",
   "execution_count": null,
   "metadata": {},
   "outputs": [],
   "source": [
    "# plt.figure(figsize=(8, 4))\n",
    "# sns.countplot(x=train_combined[feature], palette='pastel', order=train_combined[feature].value_counts().index)\n",
    "# plt.title(f\"Distribution of {feature}\")\n",
    "# plt.xticks(rotation=45)\n",
    "# plt.tight_layout()\n",
    "# plt.show()"
   ]
  },
  {
   "cell_type": "markdown",
   "metadata": {},
   "source": [
    "### 2.2.4: PreInt_Demos_Fam_Child_Race"
   ]
  },
  {
   "cell_type": "code",
   "execution_count": null,
   "metadata": {},
   "outputs": [],
   "source": [
    "feature = 'PreInt_Demos_Fam_Child_Race'\n",
    "nan_count = train_combined[feature].isna().sum()\n",
    "print(f\"Number of NaN rows in feature '{feature}': {nan_count}\")\n",
    "\n",
    "nan_test_count = test_combined[feature].isna().sum()\n",
    "print(f\"Number of NaN rows in test feature '{feature}': {nan_test_count}\")"
   ]
  },
  {
   "cell_type": "code",
   "execution_count": null,
   "metadata": {},
   "outputs": [],
   "source": [
    "train_combined[feature] = train_combined[feature].fillna(10.0)\n",
    "test_combined[feature] = test_combined[feature].fillna(10.0)"
   ]
  },
  {
   "cell_type": "code",
   "execution_count": null,
   "metadata": {},
   "outputs": [],
   "source": [
    "# plt.figure(figsize=(8, 4))\n",
    "# sns.countplot(x=train_combined[feature], palette='pastel', order=train_combined[feature].value_counts().index)\n",
    "# plt.title(f\"Distribution of {feature}\")\n",
    "# plt.xticks(rotation=45)\n",
    "# plt.tight_layout()\n",
    "# plt.show()"
   ]
  },
  {
   "cell_type": "markdown",
   "metadata": {},
   "source": [
    "### 2.2.5: MRI_Track_Scan_Location"
   ]
  },
  {
   "cell_type": "code",
   "execution_count": null,
   "metadata": {},
   "outputs": [],
   "source": [
    "feature = 'MRI_Track_Scan_Location'\n",
    "nan_count = train_combined[feature].isna().sum()\n",
    "print(f\"Number of NaN rows in feature '{feature}': {nan_count}\")\n",
    "\n",
    "nan_test_count = test_combined[feature].isna().sum()\n",
    "print(f\"Number of NaN rows in test feature '{feature}': {nan_test_count}\")"
   ]
  },
  {
   "cell_type": "code",
   "execution_count": null,
   "metadata": {},
   "outputs": [],
   "source": [
    "train_combined[feature] = train_combined[feature].fillna(4.0)\n",
    "test_combined[feature] = test_combined[feature].fillna(4.0)"
   ]
  },
  {
   "cell_type": "code",
   "execution_count": null,
   "metadata": {},
   "outputs": [],
   "source": [
    "# plt.figure(figsize=(8, 4))\n",
    "# sns.countplot(x=train_combined[feature], palette='pastel', order=train_combined[feature].value_counts().index)\n",
    "# plt.title(f\"Distribution of {feature}\")\n",
    "# plt.xticks(rotation=45)\n",
    "# plt.tight_layout()\n",
    "# plt.show()"
   ]
  },
  {
   "cell_type": "markdown",
   "metadata": {},
   "source": [
    "### 2.2.6: Barratt_Barratt_P1_Edu"
   ]
  },
  {
   "cell_type": "code",
   "execution_count": null,
   "metadata": {},
   "outputs": [],
   "source": [
    "feature = 'Barratt_Barratt_P1_Edu'\n",
    "nan_count = train_combined[feature].isna().sum()\n",
    "print(f\"Number of NaN rows in feature '{feature}': {nan_count}\")\n",
    "\n",
    "nan_test_count = test_combined[feature].isna().sum()\n",
    "print(f\"Number of NaN rows in test feature '{feature}': {nan_test_count}\")"
   ]
  },
  {
   "cell_type": "code",
   "execution_count": null,
   "metadata": {},
   "outputs": [],
   "source": [
    "train_combined[feature] = train_combined[feature].fillna(18.0)\n",
    "test_combined[feature] = test_combined[feature].fillna(18.0)"
   ]
  },
  {
   "cell_type": "code",
   "execution_count": null,
   "metadata": {},
   "outputs": [],
   "source": [
    "plt.figure(figsize=(8, 4))\n",
    "sns.countplot(x=train_combined[feature], palette='pastel', order=train_combined[feature].value_counts().index)\n",
    "plt.title(f\"Distribution of {feature}\")\n",
    "plt.xticks(rotation=45)\n",
    "plt.tight_layout()\n",
    "plt.show()"
   ]
  },
  {
   "cell_type": "markdown",
   "metadata": {},
   "source": [
    "### 2.2.7: Barratt_Barratt_P1_Occ"
   ]
  },
  {
   "cell_type": "code",
   "execution_count": null,
   "metadata": {},
   "outputs": [],
   "source": [
    "feature = 'Barratt_Barratt_P1_Occ'\n",
    "nan_count = train_combined[feature].isna().sum()\n",
    "print(f\"Number of NaN rows in feature '{feature}': {nan_count}\")\n",
    "\n",
    "nan_test_count = test_combined[feature].isna().sum()\n",
    "print(f\"Number of NaN rows in test feature '{feature}': {nan_test_count}\")"
   ]
  },
  {
   "cell_type": "code",
   "execution_count": null,
   "metadata": {},
   "outputs": [],
   "source": [
    "median_value = train_combined[feature].median()\n",
    "train_combined[feature] = train_combined[feature].fillna(median_value)\n",
    "print(f\"Filled NaN in '{feature}' with median value: {median_value}\")\n",
    "\n",
    "median_test_value = test_combined[feature].median()\n",
    "test_combined[feature] = test_combined[feature].fillna(median_test_value)\n",
    "print(f\"Filled NaN in '{feature}' with median value: {median_test_value}\")"
   ]
  },
  {
   "cell_type": "code",
   "execution_count": null,
   "metadata": {},
   "outputs": [],
   "source": [
    "# plt.figure(figsize=(8, 4))\n",
    "# sns.countplot(x=train_combined[feature], palette='pastel', order=train_combined[feature].value_counts().index)\n",
    "# plt.title(f\"Distribution of {feature}\")\n",
    "# plt.xticks(rotation=45)\n",
    "# plt.tight_layout()\n",
    "# plt.show()"
   ]
  },
  {
   "cell_type": "markdown",
   "metadata": {},
   "source": [
    "### 2.2.8: Barratt_Barratt_P2_Edu"
   ]
  },
  {
   "cell_type": "code",
   "execution_count": null,
   "metadata": {},
   "outputs": [],
   "source": [
    "feature = 'Barratt_Barratt_P2_Edu'\n",
    "nan_count = train_combined[feature].isna().sum()\n",
    "print(f\"Number of NaN rows in feature '{feature}': {nan_count}\")\n",
    "\n",
    "nan_test_count = test_combined[feature].isna().sum()\n",
    "print(f\"Number of NaN rows in test feature '{feature}': {nan_test_count}\")"
   ]
  },
  {
   "cell_type": "code",
   "execution_count": null,
   "metadata": {},
   "outputs": [],
   "source": [
    "def impute_p2_edu(row):\n",
    "    if pd.isna(row['Barratt_Barratt_P2_Edu']):\n",
    "        return row['Barratt_Barratt_P1_Edu']\n",
    "    return row['Barratt_Barratt_P2_Edu']\n",
    "\n",
    "train_combined['Barratt_Barratt_P2_Edu'] = train_combined.apply(impute_p2_edu, axis=1)\n",
    "test_combined['Barratt_Barratt_P2_Edu'] = test_combined.apply(impute_p2_edu, axis=1)"
   ]
  },
  {
   "cell_type": "code",
   "execution_count": null,
   "metadata": {},
   "outputs": [],
   "source": [
    "# plt.figure(figsize=(8, 4))\n",
    "# sns.countplot(x=train_combined[feature], palette='pastel', order=train_combined[feature].value_counts().index)\n",
    "# plt.title(f\"Distribution of {feature}\")\n",
    "# plt.xticks(rotation=45)\n",
    "# plt.tight_layout()\n",
    "# plt.show()"
   ]
  },
  {
   "cell_type": "markdown",
   "metadata": {},
   "source": [
    "### 2.2.9: Barratt_Barratt_P2_Occ"
   ]
  },
  {
   "cell_type": "code",
   "execution_count": null,
   "metadata": {},
   "outputs": [],
   "source": [
    "feature = 'Barratt_Barratt_P2_Occ'\n",
    "nan_count = train_combined[feature].isna().sum()\n",
    "print(f\"Number of NaN rows in feature '{feature}': {nan_count}\")\n",
    "\n",
    "nan_test_count = test_combined[feature].isna().sum()\n",
    "print(f\"Number of NaN rows in test feature '{feature}': {nan_test_count}\")"
   ]
  },
  {
   "cell_type": "code",
   "execution_count": null,
   "metadata": {},
   "outputs": [],
   "source": [
    "def impute_p2_edu(row):\n",
    "    if pd.isna(row['Barratt_Barratt_P2_Occ']):\n",
    "        return row['Barratt_Barratt_P1_Occ']\n",
    "    return row['Barratt_Barratt_P2_Occ']\n",
    "\n",
    "train_combined['Barratt_Barratt_P2_Occ'] = train_combined.apply(impute_p2_edu, axis=1)\n",
    "test_combined['Barratt_Barratt_P2_Occ'] = test_combined.apply(impute_p2_edu, axis=1)"
   ]
  },
  {
   "cell_type": "code",
   "execution_count": null,
   "metadata": {},
   "outputs": [],
   "source": [
    "# plt.figure(figsize=(8, 4))\n",
    "# sns.countplot(x=train_combined[feature], palette='pastel', order=train_combined[feature].value_counts().index)\n",
    "# plt.title(f\"Distribution of {feature}\")\n",
    "# plt.xticks(rotation=45)\n",
    "# plt.tight_layout()\n",
    "# plt.show()"
   ]
  },
  {
   "cell_type": "code",
   "execution_count": null,
   "metadata": {},
   "outputs": [],
   "source": [
    "train_combined.drop(columns=['MRI_Track_Scan_Location', 'Basic_Demos_Study_Site'], inplace=True)\n",
    "test_combined.drop(columns=['MRI_Track_Scan_Location', 'Basic_Demos_Study_Site'], inplace=True)"
   ]
  },
  {
   "cell_type": "markdown",
   "metadata": {},
   "source": [
    "### 2.2.10 Laterality_Category and ColorVision_Level"
   ]
  },
  {
   "cell_type": "code",
   "execution_count": null,
   "metadata": {},
   "outputs": [],
   "source": [
    "from sklearn.preprocessing import LabelEncoder\n",
    "\n",
    "le_laterality = LabelEncoder()\n",
    "le_colorvision = LabelEncoder()\n",
    "\n",
    "train_combined['Laterality_Category'] = le_laterality.fit_transform(train_combined['Laterality_Category'])\n",
    "train_combined['ColorVision_Level'] = le_colorvision.fit_transform(train_combined['ColorVision_Level'])\n",
    "\n",
    "\n",
    "# Step 2: Transform test set using same encoders\n",
    "test_combined['Laterality_Category'] = le_laterality.transform(test_combined['Laterality_Category'])\n",
    "test_combined['ColorVision_Level'] = le_colorvision.transform(test_combined['ColorVision_Level'])"
   ]
  },
  {
   "cell_type": "code",
   "execution_count": null,
   "metadata": {},
   "outputs": [],
   "source": [
    "laterality_mapping = dict(zip(le_laterality.classes_, le_laterality.transform(le_laterality.classes_)))\n",
    "colorvision_mapping = dict(zip(le_colorvision.classes_, le_colorvision.transform(le_colorvision.classes_)))\n",
    "\n",
    "print(\"Laterality_Category mapping:\", laterality_mapping)\n",
    "print(\"ColorVision_Level mapping:\", colorvision_mapping)"
   ]
  },
  {
   "cell_type": "markdown",
   "metadata": {},
   "source": [
    "# 3. Final"
   ]
  },
  {
   "cell_type": "code",
   "execution_count": null,
   "metadata": {},
   "outputs": [],
   "source": [
    "train_combined"
   ]
  },
  {
   "cell_type": "code",
   "execution_count": null,
   "metadata": {},
   "outputs": [],
   "source": [
    "test_combined"
   ]
  },
  {
   "cell_type": "code",
   "execution_count": null,
   "metadata": {},
   "outputs": [],
   "source": [
    "for feature in train_combined.columns:\n",
    "    num_missing = train_combined[feature].isna().sum()\n",
    "    print(f\"{feature}: {num_missing} missing values\")"
   ]
  },
  {
   "cell_type": "code",
   "execution_count": null,
   "metadata": {},
   "outputs": [],
   "source": [
    "for feature in test_combined.columns:\n",
    "    num_missing = test_combined[feature].isna().sum()\n",
    "    print(f\"{feature}: {num_missing} missing values\")"
   ]
  },
  {
   "cell_type": "code",
   "execution_count": null,
   "metadata": {},
   "outputs": [],
   "source": [
    "train_combined.to_csv('train_processed.csv', index=False)\n",
    "test_combined.to_csv('test_processed.csv', index=False)\n",
    "\n",
    "print(\"Complete!\")"
   ]
  }
 ],
 "metadata": {
  "kaggle": {
   "accelerator": "none",
   "dataSources": [
    {
     "datasetId": 7062972,
     "sourceId": 11295441,
     "sourceType": "datasetVersion"
    }
   ],
   "dockerImageVersionId": 30918,
   "isGpuEnabled": false,
   "isInternetEnabled": true,
   "language": "python",
   "sourceType": "notebook"
  },
  "kernelspec": {
   "display_name": "Python 3",
   "language": "python",
   "name": "python3"
  },
  "language_info": {
   "codemirror_mode": {
    "name": "ipython",
    "version": 3
   },
   "file_extension": ".py",
   "mimetype": "text/x-python",
   "name": "python",
   "nbconvert_exporter": "python",
   "pygments_lexer": "ipython3",
   "version": "3.11.11"
  }
 },
 "nbformat": 4,
 "nbformat_minor": 4
}
